{
 "cells": [
  {
   "cell_type": "code",
   "execution_count": 4,
   "metadata": {},
   "outputs": [],
   "source": [
    "import numpy as np"
   ]
  },
  {
   "cell_type": "code",
   "execution_count": 5,
   "metadata": {},
   "outputs": [],
   "source": [
    "X = english_score = np.array([55,89,76,65,48,70])\n",
    "Y = math_score = np.array([60,85,60,68,np.nan,60])\n",
    "Z = chinese_score = np.array([65,90,82,72,66,77])"
   ]
  },
  {
   "cell_type": "markdown",
   "metadata": {},
   "source": [
    "1. 請計算各科成績平均、最大值、最小值、標準差，其中數學缺一筆資料可忽略?"
   ]
  },
  {
   "cell_type": "code",
   "execution_count": 14,
   "metadata": {},
   "outputs": [
    {
     "name": "stdout",
     "output_type": "stream",
     "text": [
      "67.16666666666667\n",
      "60.0\n",
      "75.33333333333333\n",
      "------------------------------\n",
      "89\n",
      "85.0\n",
      "90\n",
      "------------------------------\n",
      "48\n",
      "60.0\n",
      "65\n",
      "------------------------------\n",
      "13.433995020924426\n",
      "9.707728879609279\n",
      "8.825468196582484\n"
     ]
    }
   ],
   "source": [
    "#平均\n",
    "print(np.average(X))\n",
    "print(np.nanmedian(Y))\n",
    "print(np.average(Z))\n",
    "print('-'*30)\n",
    "#最大值\n",
    "print(np.max(X))\n",
    "print(np.nanmax(Y))\n",
    "print(np.max(Z))\n",
    "print('-'*30)\n",
    "#最小值\n",
    "print(np.min(X))\n",
    "print(np.nanmin(Y))\n",
    "print(np.min(Z))\n",
    "print('-'*30)\n",
    "#標準差\n",
    "print(np.std(X))\n",
    "print(np.nanstd(Y))\n",
    "print(np.std(Z))"
   ]
  },
  {
   "cell_type": "markdown",
   "metadata": {},
   "source": [
    "2. 第五位同學補考數學後成績為55，請計算補考後數學成績平均、最大值、最小值、標準差?"
   ]
  },
  {
   "cell_type": "code",
   "execution_count": 15,
   "metadata": {},
   "outputs": [
    {
     "name": "stdout",
     "output_type": "stream",
     "text": [
      "67.16666666666667\n",
      "60.0\n",
      "75.33333333333333\n",
      "------------------------------\n",
      "89\n",
      "85\n",
      "90\n",
      "------------------------------\n",
      "48\n",
      "55\n",
      "65\n",
      "------------------------------\n",
      "13.433995020924426\n",
      "9.860132971832694\n",
      "8.825468196582484\n"
     ]
    }
   ],
   "source": [
    "X = english_score = np.array([55,89,76,65,48,70])\n",
    "Y = math_score = np.array([60,85,60,68,55,60])\n",
    "Z = chinese_score = np.array([65,90,82,72,66,77])\n",
    "#平均\n",
    "print(np.average(X))\n",
    "print(np.median(Y))\n",
    "print(np.average(Z))\n",
    "print('-'*30)\n",
    "#最大值\n",
    "print(np.max(X))\n",
    "print(np.max(Y))\n",
    "print(np.max(Z))\n",
    "print('-'*30)\n",
    "#最小值\n",
    "print(np.min(X))\n",
    "print(np.min(Y))\n",
    "print(np.min(Z))\n",
    "print('-'*30)\n",
    "#標準差\n",
    "print(np.std(X))\n",
    "print(np.std(Y))\n",
    "print(np.std(Z))"
   ]
  },
  {
   "cell_type": "markdown",
   "metadata": {},
   "source": [
    "3. 用補考後資料找出與國文成績相關係數最高的學科?"
   ]
  },
  {
   "cell_type": "code",
   "execution_count": 20,
   "metadata": {},
   "outputs": [
    {
     "name": "stdout",
     "output_type": "stream",
     "text": [
      "[[1.         0.97792828]\n",
      " [0.97792828 1.        ]]\n",
      "[[1.         0.74056803]\n",
      " [0.74056803 1.        ]]\n"
     ]
    }
   ],
   "source": [
    "print(np.corrcoef(Z,X))\n",
    "print(np.corrcoef(Z,Y))\n",
    "#與國文成績相關係數最高之學科為英語成績"
   ]
  },
  {
   "cell_type": "markdown",
   "metadata": {},
   "source": [
    "### END"
   ]
  },
  {
   "cell_type": "code",
   "execution_count": null,
   "metadata": {},
   "outputs": [],
   "source": []
  }
 ],
 "metadata": {
  "kernelspec": {
   "display_name": "Python 3",
   "language": "python",
   "name": "python3"
  },
  "language_info": {
   "codemirror_mode": {
    "name": "ipython",
    "version": 3
   },
   "file_extension": ".py",
   "mimetype": "text/x-python",
   "name": "python",
   "nbconvert_exporter": "python",
   "pygments_lexer": "ipython3",
   "version": "3.8.3"
  }
 },
 "nbformat": 4,
 "nbformat_minor": 4
}
