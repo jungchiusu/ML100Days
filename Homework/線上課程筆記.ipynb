{
 "cells": [
  {
   "cell_type": "markdown",
   "metadata": {},
   "source": [
    "### Chapter 1"
   ]
  },
  {
   "cell_type": "code",
   "execution_count": 97,
   "metadata": {},
   "outputs": [],
   "source": [
    "%matplotlib inline\n",
    "import numpy as np\n",
    "import matplotlib.pyplot as plt\n",
    "import scipy.special as sps"
   ]
  },
  {
   "cell_type": "code",
   "execution_count": 2,
   "metadata": {},
   "outputs": [
    {
     "data": {
      "text/plain": [
       "'1.18.5'"
      ]
     },
     "execution_count": 2,
     "metadata": {},
     "output_type": "execute_result"
    }
   ],
   "source": [
    "np.__version__"
   ]
  },
  {
   "cell_type": "code",
   "execution_count": 4,
   "metadata": {},
   "outputs": [
    {
     "data": {
      "text/plain": [
       "array([1, 2, 3, 4, 5])"
      ]
     },
     "execution_count": 4,
     "metadata": {},
     "output_type": "execute_result"
    }
   ],
   "source": [
    "a = np.array([1,2,3,4,5])\n",
    "a"
   ]
  },
  {
   "cell_type": "code",
   "execution_count": 5,
   "metadata": {},
   "outputs": [
    {
     "data": {
      "text/plain": [
       "array([6, 7, 8])"
      ]
     },
     "execution_count": 5,
     "metadata": {},
     "output_type": "execute_result"
    }
   ],
   "source": [
    "b = np.array([6,7,8])\n",
    "b"
   ]
  },
  {
   "cell_type": "code",
   "execution_count": 6,
   "metadata": {},
   "outputs": [
    {
     "data": {
      "text/plain": [
       "array([0, 1, 2, 3, 4, 5, 6, 7, 8, 9])"
      ]
     },
     "execution_count": 6,
     "metadata": {},
     "output_type": "execute_result"
    }
   ],
   "source": [
    "np.arange(10)"
   ]
  },
  {
   "cell_type": "code",
   "execution_count": 7,
   "metadata": {},
   "outputs": [
    {
     "data": {
      "text/plain": [
       "array([2, 4, 6, 8])"
      ]
     },
     "execution_count": 7,
     "metadata": {},
     "output_type": "execute_result"
    }
   ],
   "source": [
    "np.arange(2,10,2)"
   ]
  },
  {
   "cell_type": "code",
   "execution_count": 32,
   "metadata": {},
   "outputs": [
    {
     "name": "stdout",
     "output_type": "stream",
     "text": [
      "[1.  1.5 2.  2.5]\n",
      "[1.  1.5 2.  2.5 3. ]\n"
     ]
    }
   ],
   "source": [
    "c = np.arange(1.0,3.0,0.5,dtype = 'float64') \n",
    "print(c) #linespace代替\n",
    "d = np.linspace(1.0,3.0, num = 5, endpoint = True, retstep = False, dtype = None, axis = 0)\n",
    "print(d)"
   ]
  },
  {
   "cell_type": "code",
   "execution_count": 37,
   "metadata": {},
   "outputs": [
    {
     "name": "stdout",
     "output_type": "stream",
     "text": [
      "無結束值： [0.13 0.14 0.15]\n",
      "有結束值： [0.12 0.13 0.14 0.15 0.16]\n"
     ]
    }
   ],
   "source": [
    "e = np.arange(0.13,0.16,step = 0.01)\n",
    "print(\"無結束值：\",e)\n",
    "f = np.arange(0.12,0.16,step = 0.01)\n",
    "print(\"有結束值：\",f)"
   ]
  },
  {
   "cell_type": "code",
   "execution_count": 41,
   "metadata": {},
   "outputs": [
    {
     "name": "stdout",
     "output_type": "stream",
     "text": [
      "[2 4 6 8]\n",
      "[2. 4. 6. 8.]\n",
      "(array([ 2.        ,  4.66666667,  7.33333333, 10.        ]), 2.6666666666666665)\n"
     ]
    }
   ],
   "source": [
    "g = np.arange(2,10,2)\n",
    "print(g)\n",
    "h = np.linspace(2,10,num=4,endpoint=False) #4元素，不包含結束值\n",
    "print(h)\n",
    "i = np.linspace(2.0,10.0,num = 4,retstep = True) #顯示間隔值\n",
    "print(i) "
   ]
  },
  {
   "cell_type": "markdown",
   "metadata": {},
   "source": [
    "### 多維陣列"
   ]
  },
  {
   "cell_type": "code",
   "execution_count": 50,
   "metadata": {},
   "outputs": [
    {
     "name": "stdout",
     "output_type": "stream",
     "text": [
      "[[1 2 3]\n",
      " [4 5 6]]\n"
     ]
    },
    {
     "data": {
      "text/plain": [
       "(2, 3)"
      ]
     },
     "execution_count": 50,
     "metadata": {},
     "output_type": "execute_result"
    }
   ],
   "source": [
    "a = np.array([[1,2,3],[4,5,6]])\n",
    "print(a)\n",
    "a.shape #一個2*3陣列 （二列 三行）->二維陣列"
   ]
  },
  {
   "cell_type": "code",
   "execution_count": 131,
   "metadata": {},
   "outputs": [
    {
     "name": "stdout",
     "output_type": "stream",
     "text": [
      "[[[ 1  2  3]\n",
      "  [ 4  5  6]\n",
      "  [ 7  8  9]\n",
      "  [10 11 12]]\n",
      "\n",
      " [[ 1  2  3]\n",
      "  [ 4  5  6]\n",
      "  [ 7  8  9]\n",
      "  [10 11 12]]]\n",
      "(2, 4, 3)\n",
      "3\n",
      "7\n"
     ]
    }
   ],
   "source": [
    "b =  np.array([[[1, 2, 3], [4, 5, 6],\n",
    "              [7, 8, 9], [10, 11, 12]],\n",
    "              [[1, 2, 3], [4, 5, 6],\n",
    "              [7, 8, 9], [10, 11, 12]]])\n",
    "print(b)\n",
    "print(b.shape) #二個4*3的陣列 （四列 三行）->三維陣列\n",
    "\n",
    "print(b.ndim) #三維陣列-> 軸的數量\n",
    "print(b.flat[6]) #假裝是一維，位置6->7"
   ]
  },
  {
   "cell_type": "code",
   "execution_count": 132,
   "metadata": {},
   "outputs": [
    {
     "data": {
      "text/plain": [
       "array([[[ 1,  1],\n",
       "        [ 4,  4],\n",
       "        [ 7,  7],\n",
       "        [10, 10]],\n",
       "\n",
       "       [[ 2,  2],\n",
       "        [ 5,  5],\n",
       "        [ 8,  8],\n",
       "        [11, 11]],\n",
       "\n",
       "       [[ 3,  3],\n",
       "        [ 6,  6],\n",
       "        [ 9,  9],\n",
       "        [12, 12]]])"
      ]
     },
     "execution_count": 132,
     "metadata": {},
     "output_type": "execute_result"
    }
   ],
   "source": [
    "b6 = b.T #轉置\n",
    "b6"
   ]
  },
  {
   "cell_type": "code",
   "execution_count": 61,
   "metadata": {},
   "outputs": [
    {
     "name": "stdout",
     "output_type": "stream",
     "text": [
      "[[[-3.10503618e+231 -3.10503618e+231]\n",
      "  [ 2.47032823e-323  0.00000000e+000]]\n",
      "\n",
      " [[ 0.00000000e+000  0.00000000e+000]\n",
      "  [-3.10503618e+231 -3.10503618e+231]]]\n",
      "----------------------------------------\n",
      "[[0. 0.]\n",
      " [0. 0.]]\n",
      "----------------------------------------\n",
      "[[1. 1.]\n",
      " [1. 1.]]\n"
     ]
    }
   ],
   "source": [
    "b = np.empty([2,2,2]) #不用給起始值，只給陣列跟行、列，隨機給值\n",
    "print(b)\n",
    "print(\"-\"*40)\n",
    "\n",
    "c = np.zeros([2,2]) #（括號）當中包含[]->list\n",
    "print(c)\n",
    "print(\"-\"*40)\n",
    "             \n",
    "d = np.ones([2,2])\n",
    "print(d)"
   ]
  },
  {
   "cell_type": "markdown",
   "metadata": {},
   "source": [
    "### 隨機陣列"
   ]
  },
  {
   "cell_type": "code",
   "execution_count": 81,
   "metadata": {},
   "outputs": [],
   "source": [
    "np.random.seed(0) #設定隨機種子"
   ]
  },
  {
   "cell_type": "markdown",
   "metadata": {},
   "source": [
    "### 陣列決定 (2,3)"
   ]
  },
  {
   "cell_type": "code",
   "execution_count": 80,
   "metadata": {},
   "outputs": [
    {
     "name": "stdout",
     "output_type": "stream",
     "text": [
      "[[0.52184832 0.41466194 0.26455561]\n",
      " [0.77423369 0.45615033 0.56843395]]\n",
      "----------------------------------------\n",
      "[[ 0.04575852 -0.18718385  1.53277921]\n",
      " [ 1.46935877  0.15494743  0.37816252]]\n"
     ]
    }
   ],
   "source": [
    "a = np.random.rand(2,3) #0~1之間隨機 非整數 連續分佈rand()\n",
    "print(a)\n",
    "print(\"-\"*40)\n",
    "\n",
    "b = np.random.randn(2,3) #-1~1之間隨機 非整數 常態分佈randn()\n",
    "print(b)"
   ]
  },
  {
   "cell_type": "markdown",
   "metadata": {},
   "source": [
    "### 數量決定 size"
   ]
  },
  {
   "cell_type": "code",
   "execution_count": 86,
   "metadata": {},
   "outputs": [
    {
     "name": "stdout",
     "output_type": "stream",
     "text": [
      "[73 27 88 12 77 66 18 10  5 13]\n",
      "----------------------------------------\n",
      "[79 79 53 11  4 39 92 45 26 74]\n",
      "----------------------------------------\n",
      "[0.13206811 0.71685968 0.3960597  0.56542131 0.18327984]\n",
      "----------------------------------------\n",
      "[0.14484776 0.48805628 0.35561274 0.94043195 0.76532525]\n"
     ]
    }
   ],
   "source": [
    "#有上下界\n",
    "c = np.random.randint(5,100,10) #5-10之間隨機10個 整數 離散分佈\n",
    "print(c)\n",
    "print(\"-\"*40)\n",
    "\n",
    "f = np.random.choice(100,10) #0-100之間10個 整數\n",
    "print(f)\n",
    "print(\"-\"*40)\n",
    "\n",
    "#沒有上下界\n",
    "d = np.random.random(5) #隨機5個 非整數\n",
    "print(d)\n",
    "print(\"-\"*40)\n",
    "\n",
    "e = np.random.random_sample(5) #隨機5個0.0-1.0之間的一維陣列 非整數\n",
    "print(e)"
   ]
  },
  {
   "cell_type": "markdown",
   "metadata": {},
   "source": [
    "### 不同分佈 畫圖"
   ]
  },
  {
   "cell_type": "code",
   "execution_count": 100,
   "metadata": {},
   "outputs": [
    {
     "name": "stdout",
     "output_type": "stream",
     "text": [
      "[ 4.4543727   5.76485579  4.48436801  5.34951579  4.5794477   2.40419798\n",
      "  5.23436958  1.65283335  2.25953532  7.52974503  1.32472102  6.79495946\n",
      "  0.68226258  3.29273039  7.53674208  1.31079244  1.91198227  7.64903036\n",
      "  2.65744063  2.7851493   1.47504213  1.26378479  4.50572233  5.64361988\n",
      "  4.39377503  3.89308902  1.74784256  2.73548151  1.55496384  3.22025913\n",
      "  5.72601383  2.86240331  1.98710751  4.30098553  4.5613548   2.12930219\n",
      "  5.42532072  3.69949133  1.75800505  4.54284124  2.7511323   3.8869981\n",
      "  1.35057162  5.73794839  8.94597528  5.12254911  2.90356364  8.04759969\n",
      "  2.2977093   2.30802791  0.24388672  5.96239177  1.5656989   1.19182777\n",
      "  4.47509323  4.55633015  0.67298623  2.70447393  0.04495571  5.86661659\n",
      "  2.29354169  7.47392708  5.62779004  4.134241    8.02302985  3.04319773\n",
      "  4.30640825  4.1664479   3.61773738  6.04017074  4.41306527  2.5982104\n",
      "  2.29904411  2.30989768  3.61016677  2.38184189  6.49142962  2.30913264\n",
      "  2.71724663  2.85034318  8.0192892   3.16544784  2.46365401  3.42651967\n",
      " 11.16091147  1.63909889  3.64739436  2.4796926   5.28113515  6.63981312\n",
      "  2.08147055  7.78396525  5.09617528  4.34777738  2.47757434  1.54218677\n",
      "  4.10969077  0.51172144  1.85637476  3.60367186  4.54911974  9.1634774\n",
      "  1.55287533  3.2923777   6.30951365  2.1757334   2.38229316  2.95012689\n",
      "  2.52210255  6.48144434  2.22574431  1.38896759 16.27439004  0.58213447\n",
      "  3.41909217  9.49951642  0.63780081  1.46553725  2.49701467  6.85461063\n",
      "  1.86665273  8.9463714   2.12342649  0.44590996 12.19949837  2.33320524\n",
      "  3.05640584  4.23162818  4.43749492  1.72171946  1.07042754  4.89295652\n",
      "  3.95109236  5.18623331  7.04277248  6.16016868  1.85830311  1.9280262\n",
      "  5.71881464 15.77957019  1.58428117  2.1932831   1.74833617  2.49326414\n",
      "  6.10067586  7.47320311  4.32572321 10.09898414 10.83678006  1.97546694\n",
      "  3.18776661  8.35738839  1.87149718  5.8199151   7.34441341  2.2467452\n",
      "  4.55041966  2.9062287   4.53460654  7.72908058 11.61401085  0.8992098\n",
      "  5.25748859  6.13524831  8.8016415   2.94064173  2.91858262  7.21644275\n",
      "  4.25792109  8.11464924  4.03114928  3.09732846  0.97615195  0.99255023\n",
      "  0.38341382  1.46604133  1.66648269  1.6123339   3.79789203  4.89111108\n",
      "  0.8186774   6.9950834  10.88283052  7.79464563  2.24061649  5.41398102\n",
      "  9.96080029  1.60622524  4.35664261  8.41723937 16.47086285  6.24693993\n",
      "  2.88674087  8.48467911  1.70870342  8.05582764  2.25782318  7.52137756\n",
      " 12.71415561  4.90310149  5.50917728  4.4463525   3.15968381  7.21445097\n",
      "  1.49960825  4.51153051  3.5421513   2.61783871  3.12155893  9.1217411\n",
      "  2.69619118  1.70451402  5.5768747   2.86532332  2.96986899  6.55115532\n",
      "  0.93753174  1.41450152  0.97631537  6.24495337  3.85914607  5.45584614\n",
      "  1.77289223  7.05868174  4.41245634  3.2347296   2.14638066  0.83544974\n",
      "  1.42858398 11.45866452  7.41630006  1.2278248   2.68735648  5.86301878\n",
      "  2.34154684  6.93308571  0.73245971  1.63152774  1.39768156  0.93565904\n",
      "  9.40300032  2.10849957  5.62738878  2.43348287  7.35769763  1.7965542\n",
      "  2.34691113  3.90440906  5.58858884  0.28014657 10.1405848   4.58986383\n",
      "  4.80615569  4.81409506  1.99097033  4.04009066  5.13484638  3.72425772\n",
      "  1.74407257  3.9712502   8.19734256  3.78787781  3.32762199  4.61929189\n",
      "  2.37411406  9.4303871   5.80122676  2.35301061  2.69715362  0.40919665\n",
      "  5.04216136  0.5865043   2.65224302  4.22627598  3.77891123  3.5220507\n",
      " 11.52607823  3.79196629  6.58984214  2.55954172  1.85090593  7.26540775\n",
      "  2.03585369  1.47495474  1.81714243  1.23608683  4.77922128  0.88409687\n",
      "  4.75294724  2.77429294  0.65088153  1.77603987  3.76068478  9.37613469\n",
      "  2.06177276  1.67623632  1.9498605   2.40129976  8.78912598  1.83569701\n",
      "  7.1950612   5.32541896  1.53031262  1.21326462 14.06856917 12.59125679\n",
      "  5.39211981  3.68344685  2.45359916  5.41348178  1.76142901  5.64702712\n",
      "  3.75422861  1.69013447 10.10470582  4.90776341 10.01756158  1.91906404\n",
      "  4.32004396  0.21069081  1.04564472  8.1975614   2.59998268  6.05108058\n",
      "  8.00116189  2.35766781  4.31136626  0.81488256  1.34241919  7.85933144\n",
      "  1.3037435   3.67894024  3.56186601 12.72497099  5.52124748  4.40887602\n",
      "  8.49542892  2.67001632  4.59322089  6.186696    0.75177599  4.84095445\n",
      "  6.65091912  6.30934918  2.61973865  2.00564706  1.75458822 11.42258905\n",
      "  6.58521312  1.75728316  1.11616775  2.46713475  2.62157174 10.19986141\n",
      " 12.28131142  4.04360607  2.76372583  1.70130847  3.37459341  0.83337985\n",
      "  1.89724194  3.40645139  3.04971334  3.11504797  5.55809748  1.39032381\n",
      "  2.71465278  0.81868265  1.99388725 10.68299401  2.70350184  4.0707436\n",
      "  8.84195398  4.14086663  2.65584757  1.55904435  2.92526599  2.65507454\n",
      "  4.99035772  0.85753303  3.3958554   5.44023009  5.44516698  4.67907989\n",
      "  6.81637982  2.65489828  1.54158161  0.83729976  4.28044483  2.11262979\n",
      "  5.49851527  1.15269732  3.01363189  4.28643993  8.07046242  5.11113944\n",
      "  6.52937307  9.61263328  7.58178789  1.8869644   8.04202753  1.92764954\n",
      "  1.28384048  1.66427749  2.8075353   1.89634628  1.08616572  1.62161103\n",
      "  2.52049286 10.06187484  1.81064298  1.98260104  7.05368817  2.73277412\n",
      "  3.19366698  1.11121254  6.35647172  6.26862823  3.93647327  2.97626577\n",
      "  5.15176628  2.28116855  6.57624364  3.75800953  6.11469195 11.79897457\n",
      "  4.2594424   0.17731703  8.20962575  4.09447357  0.54373576  7.01498274\n",
      "  0.67406319  9.19959092  0.73142475  1.98012235  5.62680647  2.68547539\n",
      "  9.47741293  4.47923742  2.31076319  2.92015773  3.14398112  8.41002833\n",
      "  3.57068501  4.61857531  2.53216453  2.09820912  2.99779704  1.11962908\n",
      "  6.38844621 10.61132639  1.42607962  0.13902443  5.70986009  4.08558737\n",
      "  1.17038176  1.66101163  0.690591    4.86963986  5.18600138  2.29794719\n",
      "  2.58508774 22.39237679  3.61686172  2.8050491   6.53915787  0.5576497\n",
      "  2.0358328   8.36024203  5.04380326  4.10909967  1.15812679  5.64770678\n",
      "  1.63950343  7.20973781  0.81446916  9.16342196  3.28131214  9.01518368\n",
      "  8.94356618  2.47852127  2.91891564  9.79480185  6.33102957  4.1222959\n",
      "  2.66277964  0.95681937  1.11525649  6.97348872  1.76484598  6.64080992\n",
      "  9.63654613  6.62607898  0.82429875  0.54910901  2.65884019  3.27155737\n",
      "  7.2254025   2.59016738  1.76950033  7.85943943  3.32605497  1.64293682\n",
      "  2.97329501  2.38483427  4.98023222  1.09284761 10.50681969 10.89832065\n",
      "  3.0879424   3.704536    1.11159135  0.98746303  3.75937692  2.75080036\n",
      "  9.03839905  3.33998058  5.25155142  1.29709293  3.46823547  6.06232453\n",
      "  0.36236896  2.23480126  3.36280223  2.93942322  1.99635557  1.42170767\n",
      "  2.75090725  1.20997809  1.32378834  2.28069828  2.94940174  6.1110581\n",
      "  4.21063864  6.58068095  3.47736424  0.62651164  5.56769104  0.46386558\n",
      "  2.16392952  0.9875663   1.30726033  3.61536413 13.80546367  2.01318506\n",
      "  1.66419708  2.50950979  4.82334694  5.0620877   2.42780072  2.65905066\n",
      "  3.65493702  3.30817547  5.02565213  5.9668328   0.98531627  3.6305915\n",
      "  2.23897491  2.14080393  0.64778955 11.80818588  8.85684137  2.63602774\n",
      "  3.29051858  3.57249681  3.06481288  0.88148445  4.82829432  1.46007271\n",
      " 11.21122248  8.80056077  3.33922043  4.0208849   1.47407053  9.15314632\n",
      "  3.26824216  4.11872057  5.09677607  1.51997201 18.8983358   1.64818083\n",
      "  2.80080237  3.54189789  2.91889932  1.4215157   6.96175877  2.71304242\n",
      "  5.44245334  4.26300663  4.02594043  3.9483328   7.09626365  4.98223998\n",
      "  5.89265246  2.79439835  4.25952386  5.1044102  10.18957427  0.80926151\n",
      "  5.67286547  0.70555619  3.49160848  0.91727     2.05167414  4.32110626\n",
      "  1.92776455  4.48245737  3.61859063  3.76789714  4.22889788  0.59126698\n",
      "  0.6440245   5.72310167  0.91225879  2.11810658  4.53570322  1.33938195\n",
      "  3.43233319  5.9904347   0.53789147  1.59654569  5.46398885  8.04836752\n",
      "  2.73125179  3.38644546  4.98446921  2.73669502  5.08424475  8.95541599\n",
      "  2.46832855 10.63555462  5.23997237  5.78307674  2.5284172  14.32292569\n",
      "  1.62607086  1.47073309  3.05392043  5.52030821  0.38033283  3.94181405\n",
      "  2.78060997  2.33626497  3.49425794  5.25297405  3.87779729 11.48938786\n",
      "  2.0752044   4.95927336  7.45092183  2.65869026  5.34709255  3.08432495\n",
      " 14.24376106  3.57079921  1.78790074  7.02626938  0.81050779  2.78279679\n",
      "  0.31528418  7.50821477  3.05065075  6.74244654  2.79649038  6.42486398\n",
      "  3.5674752   1.20730546  1.81609969  3.75917635  3.05335783  7.56811187\n",
      " 13.76640271  3.37039817  3.68641626  1.25456738  6.86720188  1.92554179\n",
      "  1.41404089  3.98211311  5.71727808  7.74137666  2.79392819  6.35556027\n",
      "  3.35240776  7.11008617  4.94433642  9.48104782  0.41035413  0.76660804\n",
      "  4.25997994  5.70271114  4.29456274  1.02630037  2.6724797   4.95602413\n",
      "  3.64838587  2.26334758  1.51856138  3.17926347  5.61298038  3.33484788\n",
      "  0.7232093   4.74575774  1.33632309  2.00666865  7.73225162  2.28148931\n",
      "  2.00636075  3.3424636   3.03939768  3.30154252  3.34537795  1.99035418\n",
      "  3.43414167  2.81026718  1.29558161  3.00409317  2.5922652   3.57268549\n",
      "  4.52050096  2.07778892  1.20260588  2.92693654  3.02050669  3.67601569\n",
      "  2.32266635  3.35908343  3.99955613  5.21983075  4.64423648  2.21321962\n",
      "  7.98618344  4.39414494  7.44623198  1.20250795  9.3526819   4.55369662\n",
      "  3.56932284  2.77050077  5.63186478  4.21552847 11.95273637  2.57766325\n",
      "  3.69606834  9.34869153  6.48356489  3.57673219  4.4051513   0.82607737\n",
      " 13.50213982  4.52234212  3.030685    5.06527906  2.41942616  8.40758051\n",
      "  0.5595131   0.74476611  5.71975377  5.38351263  2.94406741  3.35028084\n",
      "  2.99764174  3.55249547  1.05379043  3.66590478  3.8252128   2.08399661\n",
      "  4.26657322  1.70739329  1.92280852  6.55545357  0.22621445  1.23770566\n",
      "  3.72442191  1.33614682  4.13964164  7.84994805  6.60004     2.93295326\n",
      "  5.5443019   2.6766033   0.62574366  3.67706201  6.78188487  5.47597233\n",
      "  1.04818334  1.25448743  8.24863014  1.47913276  1.7303877   5.71078832\n",
      "  3.00265984  2.53750663  1.97315645 11.18464902  1.92466174 11.61780022\n",
      "  1.60702054  2.10550797  6.43257223  2.25827148  0.58131833  9.27551645\n",
      "  4.81006869  2.79242103  6.00267966  7.72320668  6.36898655  1.57127616\n",
      "  7.47600407  3.57447565  0.17782611 11.6127581   4.3992868   4.19810272\n",
      "  4.90345445  4.03725298  1.63207113  4.17109642  3.22259238  6.8096292\n",
      "  3.31062077  4.93430341  1.17494283  3.4425913   6.03548536  0.88740633\n",
      "  1.46232616  5.16870663  3.80971757  3.57360336  3.17515531  1.02704337\n",
      "  0.8749269   3.67996021  2.03401926  3.43019549  3.53891023  1.18002428\n",
      "  1.63991985  3.16944491  1.93304262  5.79972055  4.78115979  1.05085122\n",
      "  0.5603935   2.40199629  3.84126881  2.24099942  4.34475952  1.2752816\n",
      "  6.1515182   0.57375251  8.231427    4.95651632  2.3391865   5.73833722\n",
      "  4.64601248  3.46983562  9.56018788  2.61585094  1.80939032 11.99891984\n",
      "  1.40919086  9.52628018  5.5974787   0.81313151  1.65282189  2.09222956\n",
      " 12.61953687  4.16798149  9.15954243  4.55914239  3.39066266  0.56304595\n",
      "  1.67938036  4.48669694  8.89392602  0.70850498  2.81331228  2.35484317\n",
      "  5.61479402  6.05279243  4.40796727  6.0951547   5.9296282   1.08365087\n",
      "  2.13644758  1.93974285  3.49243226  4.90150219  2.72496556  2.30070809\n",
      "  1.72875137  6.79824059 12.62135471  3.10292071  3.04962136  0.59422282\n",
      "  6.60444073  1.03295715  2.42311699 12.42016344  1.78364213  7.44146015\n",
      "  1.32051013  0.80273035  1.85905682  4.73859807  9.92873567  6.09086186\n",
      "  2.06849834  2.95521639  4.36084449  3.1313848  12.77997532  4.67255637\n",
      "  2.10840787  2.0422356  12.04477109  3.31322732  0.17586707  1.80445192\n",
      "  4.709891    4.66450518  6.42251663  2.85977333  1.83616175  8.0735694\n",
      "  5.53379737  2.51515702  2.52273804  3.60780797  2.91649942  2.43300406\n",
      "  0.66401555  3.2517098   0.78343269  1.05327093  6.52596029  2.19187739\n",
      "  2.46483826  0.84112263  3.71484111  1.78490954  4.8445548   4.75739723\n",
      "  3.10758104  4.82290619  1.70637065  1.66625652  1.80757455  6.67479338\n",
      "  1.51019595  0.57281309  1.05728393  5.76762031  1.69451772  7.75495265\n",
      "  3.04413984 10.26996007  2.74791492  3.35959887  5.25179147  3.14748697\n",
      "  5.53147     2.82392431  1.19423247  5.57224585  3.0036637  11.14105728\n",
      "  2.44022025  2.33981913  4.68779091  1.60255248  2.35101507  1.01092521\n",
      "  2.40938106  2.87501775  2.3643431   4.12065754  5.77382644  2.24836504\n",
      "  1.36668864  1.14286307  3.87284229  0.18070969  1.71000627  3.50147226\n",
      "  1.59154433  4.06785166  6.5212938   7.05490402  2.62875797 14.25113922\n",
      "  1.52824776  4.23554726  1.0834378   3.78343929]\n",
      "----------------------------------------\n",
      "[3.84959613 5.84738744 1.15249873 3.64633797 1.83665789]\n"
     ]
    }
   ],
   "source": [
    "# gamma分佈\n",
    "shape, scale = 2.,2. #中位數= 4 標準差 =2*2開根號 = 2*sqrt(2)\n",
    "s = np.random.gamma(shape, scale, 1000) #數量要超過想畫出來的數量\n",
    "print(s)\n",
    "print(\"-\"*40)\n",
    "\n",
    "c = np.random.gamma(2, 2, 5)\n",
    "print(c)"
   ]
  },
  {
   "cell_type": "code",
   "execution_count": 119,
   "metadata": {},
   "outputs": [
    {
     "data": {
      "image/png": "[encoded data removed]",
      "text/plain": [
       "<Figure size 432x288 with 1 Axes>"
      ]
     },
     "metadata": {
      "needs_background": "light"
     },
     "output_type": "display_data"
    }
   ],
   "source": [
    "count, bins, ignored = plt.hist (s,bins = 50,density = True, alpha = 0.9)\n",
    "#bins：直方圖的柱數量，默認10\n",
    "#density：向量統一\n",
    "#alpha：透明度0.9\n",
    "y = bins**(shape-1)*(np.exp(-bins/scale)/(sps.gamma(shape)*scale**shape))\n",
    "\n",
    "plt.plot(bins, y, linewidth = 5, color = 'pink')\n",
    "#線5倍粗，粉紅色\n",
    "plt.show() "
   ]
  },
  {
   "cell_type": "markdown",
   "metadata": {},
   "source": [
    "### 切片 指定位置"
   ]
  },
  {
   "cell_type": "code",
   "execution_count": 124,
   "metadata": {},
   "outputs": [
    {
     "name": "stdout",
     "output_type": "stream",
     "text": [
      "[5 6 7 8 9]\n",
      "[5 7 9]\n"
     ]
    }
   ],
   "source": [
    "a = np.arange(20)\n",
    "a1 = a[5:10]\n",
    "print(a1)\n",
    "\n",
    "a2 = a[5:10:2] #間隔2\n",
    "print(a2)"
   ]
  },
  {
   "cell_type": "code",
   "execution_count": 130,
   "metadata": {},
   "outputs": [
    {
     "name": "stdout",
     "output_type": "stream",
     "text": [
      "[[1 2 3]\n",
      " [4 5 6]]\n",
      "----------------------------------------\n",
      "[[4 5 6]\n",
      " [1 2 3]]\n",
      "----------------------------------------\n",
      "3\n",
      "----------------------------------------\n",
      "[[2 3]\n",
      " [5 6]]\n",
      "----------------------------------------\n",
      "[[4 5 6]]\n"
     ]
    }
   ],
   "source": [
    "b = np.array([[1, 2, 3], [4, 5, 6]])\n",
    "print(b)\n",
    "print(\"-\"*40)\n",
    "\n",
    "b1 = b[::-1]\n",
    "print(b1)\n",
    "print(\"-\"*40)\n",
    "\n",
    "b2 = b[0,2]\n",
    "print(b2)\n",
    "print(\"-\"*40)\n",
    "\n",
    "b3 = b[:, 1:] #不限列數 第一欄開始\n",
    "print(b3)\n",
    "print(\"-\"*40)\n",
    "\n",
    "b4 = b[1:, :] #第一列 不限欄\n",
    "print(b4)"
   ]
  },
  {
   "cell_type": "code",
   "execution_count": null,
   "metadata": {},
   "outputs": [],
   "source": []
  }
 ],
 "metadata": {
  "kernelspec": {
   "display_name": "Python 3",
   "language": "python",
   "name": "python3"
  },
  "language_info": {
   "codemirror_mode": {
    "name": "ipython",
    "version": 3
   },
   "file_extension": ".py",
   "mimetype": "text/x-python",
   "name": "python",
   "nbconvert_exporter": "python",
   "pygments_lexer": "ipython3",
   "version": "3.8.3"
  }
 },
 "nbformat": 4,
 "nbformat_minor": 4
}
